{
 "cells": [
  {
   "cell_type": "markdown",
   "id": "441d162d-9c1a-46eb-b213-6f63d5517676",
   "metadata": {},
   "source": [
    "# QCNN demo"
   ]
  },
  {
   "cell_type": "code",
   "execution_count": 2,
   "id": "5faec3db-910b-414a-8633-6c0329e0b75f",
   "metadata": {},
   "outputs": [
    {
     "name": "stderr",
     "output_type": "stream",
     "text": [
      "[Qibo 0.1.8|INFO|2023-02-13 12:29:39]: Using numpy backend on /CPU:0\n"
     ]
    }
   ],
   "source": [
    "from qcnn import QuantumCNN\n",
    "from qibo import gates\n",
    "import random\n",
    "import numpy as np\n",
    "\n",
    "import qibo\n",
    "qibo.set_backend(\"numpy\")"
   ]
  },
  {
   "cell_type": "markdown",
   "id": "b7a04e9f-dd64-4059-bbb4-9afea3da8495",
   "metadata": {},
   "source": [
    "## load data ##"
   ]
  },
  {
   "cell_type": "code",
   "execution_count": 3,
   "id": "747c0503-2f77-463d-9515-ee05b254c798",
   "metadata": {},
   "outputs": [],
   "source": [
    "data = np.load('nqubits_4_data.npy')\n",
    "labels = np.load('nqubits_4_labels.npy')\n",
    "#data = np.load('nqubits_4_data_shuffled.npy')\n",
    "#labels = np.load('nqubits_4_labels_shuffled.npy')\n",
    "labels = np.transpose(np.array([labels])) # restructure to required array format"
   ]
  },
  {
   "cell_type": "code",
   "execution_count": 4,
   "id": "5938d249-32e9-4c1a-a2be-90dc11df0490",
   "metadata": {},
   "outputs": [
    {
     "data": {
      "text/plain": [
       "array([[ 0.41104983+0.j,  0.23196256+0.j,  0.23196256+0.j,\n",
       "         0.21691558+0.j,  0.23196256+0.j,  0.14733222+0.j,\n",
       "         0.21691558+0.j,  0.23196256+0.j,  0.23196256+0.j,\n",
       "         0.21691558+0.j,  0.14733222+0.j,  0.23196256+0.j,\n",
       "         0.21691558+0.j,  0.23196256+0.j,  0.23196256+0.j,\n",
       "         0.41104983+0.j],\n",
       "       [-0.41009532+0.j, -0.23215913+0.j, -0.23215913+0.j,\n",
       "        -0.21725079+0.j, -0.23215913+0.j, -0.14776521+0.j,\n",
       "        -0.21725079+0.j, -0.23215913+0.j, -0.23215913+0.j,\n",
       "        -0.21725079+0.j, -0.14776521+0.j, -0.23215913+0.j,\n",
       "        -0.21725079+0.j, -0.23215913+0.j, -0.23215913+0.j,\n",
       "        -0.41009532+0.j]])"
      ]
     },
     "execution_count": 4,
     "metadata": {},
     "output_type": "execute_result"
    }
   ],
   "source": [
    "data[-2:]"
   ]
  },
  {
   "cell_type": "code",
   "execution_count": 5,
   "id": "ab0e3965-85ba-4d00-a8b9-b9627ba4a9fe",
   "metadata": {},
   "outputs": [
    {
     "data": {
      "text/plain": [
       "array([[1.],\n",
       "       [1.]])"
      ]
     },
     "execution_count": 5,
     "metadata": {},
     "output_type": "execute_result"
    }
   ],
   "source": [
    "labels[-2:]"
   ]
  },
  {
   "cell_type": "code",
   "execution_count": 6,
   "id": "58b9d6fd-992f-4cac-9314-100d2e41a34d",
   "metadata": {},
   "outputs": [
    {
     "data": {
      "text/plain": [
       "'q0:     ─RX─RY─RZ─RZZ─RYY─RXX─RX─RY─RZ──────────────────────────────────────── ...\\nq1:     ─RX─RY─RZ─RZZ─RYY─RXX─RX─RY─RZ─────────────RX─RY─RZ──────────RZZ─RYY─R ...\\nq2:     ──────────────────────RX─RY─RZ─RZZ─RYY─RXX─RX─RY─RZ─RX─RY─RZ─RZZ─RYY─R ...\\nq3:     ──────────────────────RX─RY─RZ─RZZ─RYY─RXX─RX─RY─RZ─────────────────── ...\\n\\nq0: ... ───RX─RY─RZ─RZZ─RYY─RXX─RX─RY─RZ─RX─RY─RZ─o───────────────────────\\nq1: ... XX─RX─RY─RZ─|───|───|─────────────────────|─RX─RY─RZ─o────────────\\nq2: ... XX─RX─RY─RZ─|───|───|───RX─RY─RZ──────────X─RZ─RY─RX─|────────────\\nq3: ... ───RX─RY─RZ─RZZ─RYY─RXX─RX─RY─RZ────────────RX─RY─RZ─X─RZ─RY─RX─M─'"
      ]
     },
     "execution_count": 6,
     "metadata": {},
     "output_type": "execute_result"
    }
   ],
   "source": [
    "test = QuantumCNN(nqubits=4, nlayers=1, nclasses=2)\n",
    "testcircuit = test._circuit\n",
    "testcircuit.draw()"
   ]
  },
  {
   "cell_type": "code",
   "execution_count": null,
   "id": "ea551785-f0b4-4327-8baf-0134127f0091",
   "metadata": {},
   "outputs": [],
   "source": [
    "testbias = np.zeros(test.measured_qubits)\n",
    "testangles = [random.uniform(0,2*np.pi) for i in range(21*2)]\n",
    "init_theta = np.concatenate((testbias, testangles))\n",
    "result = test.minimize(init_theta, data=data, labels=labels, nshots=10000, method='Powell')\n",
    "print(result)"
   ]
  },
  {
   "cell_type": "code",
   "execution_count": 9,
   "id": "4a0c3b38-7ea3-4718-9974-ba1cead1ef53",
   "metadata": {},
   "outputs": [],
   "source": [
    "predictions = []\n",
    "for n in range(len(data)):\n",
    "    predictions.append(test.Predictions(testcircuit, results_save[1], data[n], nshots=10000)[0])"
   ]
  },
  {
   "cell_type": "code",
   "execution_count": 119,
   "id": "52340d08-0080-42e1-98ba-38df6feb8bed",
   "metadata": {},
   "outputs": [
    {
     "data": {
      "text/plain": [
       "Text(0, 0.5, 'prediction')"
      ]
     },
     "execution_count": 119,
     "metadata": {},
     "output_type": "execute_result"
    },
    {
     "data": {
      "image/png": "[encoded data removed]",
      "text/plain": [
       "<Figure size 432x288 with 1 Axes>"
      ]
     },
     "metadata": {
      "needs_background": "light"
     },
     "output_type": "display_data"
    }
   ],
   "source": [
    "import matplotlib.pyplot as plt\n",
    "plt.scatter(labels.reshape(len(labels)),predictions)\n",
    "plt.xlabel('label')\n",
    "plt.ylabel('prediction')"
   ]
  },
  {
   "cell_type": "code",
   "execution_count": 120,
   "id": "fff56d9e-3f13-451a-9d1a-453b74a8ce50",
   "metadata": {},
   "outputs": [
    {
     "data": {
      "text/plain": [
       "0.995"
      ]
     },
     "execution_count": 120,
     "metadata": {},
     "output_type": "execute_result"
    }
   ],
   "source": [
    "test.Accuracy(labels,predictions)"
   ]
  }
 ],
 "metadata": {
  "kernelspec": {
   "display_name": "Python 3 (ipykernel)",
   "language": "python",
   "name": "python3"
  },
  "language_info": {
   "codemirror_mode": {
    "name": "ipython",
    "version": 3
   },
   "file_extension": ".py",
   "mimetype": "text/x-python",
   "name": "python",
   "nbconvert_exporter": "python",
   "pygments_lexer": "ipython3",
   "version": "3.9.7"
  }
 },
 "nbformat": 4,
 "nbformat_minor": 5
}
