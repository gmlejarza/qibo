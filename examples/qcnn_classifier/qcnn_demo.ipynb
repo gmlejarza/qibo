{
 "cells": [
  {
   "cell_type": "markdown",
   "id": "441d162d-9c1a-46eb-b213-6f63d5517676",
   "metadata": {},
   "source": [
    "# QCNN demo"
   ]
  },
  {
   "cell_type": "code",
   "execution_count": 2,
   "id": "5faec3db-910b-414a-8633-6c0329e0b75f",
   "metadata": {},
   "outputs": [
    {
     "name": "stderr",
     "output_type": "stream",
     "text": [
      "[Qibo 0.1.8|INFO|2023-02-13 12:29:39]: Using numpy backend on /CPU:0\n"
     ]
    }
   ],
   "source": [
    "from qcnn import QuantumCNN\n",
    "from qibo import gates\n",
    "import random\n",
    "import numpy as np\n",
    "\n",
    "import qibo\n",
    "qibo.set_backend(\"numpy\")"
   ]
  },
  {
   "cell_type": "markdown",
   "id": "b7a04e9f-dd64-4059-bbb4-9afea3da8495",
   "metadata": {},
   "source": [
    "## load data"
   ]
  },
  {
   "cell_type": "code",
   "execution_count": 11,
   "id": "747c0503-2f77-463d-9515-ee05b254c798",
   "metadata": {},
   "outputs": [],
   "source": [
    "data = np.load('nqubits_4_data_shuffled_no0.npy')\n",
    "labels = np.load('nqubits_4_labels_shuffled_no0.npy')\n",
    "labels = np.transpose(np.array([labels])) # restructure to required array format"
   ]
  },
  {
   "cell_type": "code",
   "execution_count": 12,
   "id": "5938d249-32e9-4c1a-a2be-90dc11df0490",
   "metadata": {},
   "outputs": [
    {
     "data": {
      "text/plain": [
       "array([[0.52745364+0.j, 0.19856967+0.j, 0.19856967+0.j, 0.16507377+0.j,\n",
       "        0.19856967+0.j, 0.09784837+0.j, 0.16507377+0.j, 0.19856967+0.j,\n",
       "        0.19856967+0.j, 0.16507377+0.j, 0.09784837+0.j, 0.19856967+0.j,\n",
       "        0.16507377+0.j, 0.19856967+0.j, 0.19856967+0.j, 0.52745364+0.j],\n",
       "       [0.67109214+0.j, 0.10384038+0.j, 0.10384038+0.j, 0.05351362+0.j,\n",
       "        0.10384038+0.j, 0.02786792+0.j, 0.05351362+0.j, 0.10384038+0.j,\n",
       "        0.10384038+0.j, 0.05351362+0.j, 0.02786792+0.j, 0.10384038+0.j,\n",
       "        0.05351362+0.j, 0.10384038+0.j, 0.10384038+0.j, 0.67109214+0.j]])"
      ]
     },
     "execution_count": 12,
     "metadata": {},
     "output_type": "execute_result"
    }
   ],
   "source": [
    "data[-2:]"
   ]
  },
  {
   "cell_type": "code",
   "execution_count": 13,
   "id": "ab0e3965-85ba-4d00-a8b9-b9627ba4a9fe",
   "metadata": {},
   "outputs": [
    {
     "data": {
      "text/plain": [
       "array([[ 1.],\n",
       "       [-1.]])"
      ]
     },
     "execution_count": 13,
     "metadata": {},
     "output_type": "execute_result"
    }
   ],
   "source": [
    "labels[-2:]"
   ]
  },
  {
   "cell_type": "markdown",
   "id": "44d641bc-8a0c-4c05-82fa-2066a070a735",
   "metadata": {},
   "source": [
    "## initialize model"
   ]
  },
  {
   "cell_type": "code",
   "execution_count": 6,
   "id": "58b9d6fd-992f-4cac-9314-100d2e41a34d",
   "metadata": {},
   "outputs": [
    {
     "data": {
      "text/plain": [
       "'q0:     ─RX─RY─RZ─RZZ─RYY─RXX─RX─RY─RZ──────────────────────────────────────── ...\\nq1:     ─RX─RY─RZ─RZZ─RYY─RXX─RX─RY─RZ─────────────RX─RY─RZ──────────RZZ─RYY─R ...\\nq2:     ──────────────────────RX─RY─RZ─RZZ─RYY─RXX─RX─RY─RZ─RX─RY─RZ─RZZ─RYY─R ...\\nq3:     ──────────────────────RX─RY─RZ─RZZ─RYY─RXX─RX─RY─RZ─────────────────── ...\\n\\nq0: ... ───RX─RY─RZ─RZZ─RYY─RXX─RX─RY─RZ─RX─RY─RZ─o───────────────────────\\nq1: ... XX─RX─RY─RZ─|───|───|─────────────────────|─RX─RY─RZ─o────────────\\nq2: ... XX─RX─RY─RZ─|───|───|───RX─RY─RZ──────────X─RZ─RY─RX─|────────────\\nq3: ... ───RX─RY─RZ─RZZ─RYY─RXX─RX─RY─RZ────────────RX─RY─RZ─X─RZ─RY─RX─M─'"
      ]
     },
     "execution_count": 6,
     "metadata": {},
     "output_type": "execute_result"
    }
   ],
   "source": [
    "# initialize model instance\n",
    "test = QuantumCNN(nqubits=4, nlayers=1, nclasses=2)\n",
    "testcircuit = test._circuit\n",
    "testcircuit.draw()"
   ]
  },
  {
   "cell_type": "code",
   "execution_count": 17,
   "id": "ea551785-f0b4-4327-8baf-0134127f0091",
   "metadata": {},
   "outputs": [],
   "source": [
    "# initialize model parameters\n",
    "testbias = np.zeros(test.measured_qubits)\n",
    "testangles = [random.uniform(0,2*np.pi) for i in range(21*2)]\n",
    "init_theta = np.concatenate((testbias, testangles))"
   ]
  },
  {
   "cell_type": "markdown",
   "id": "19f90348-17f0-4fda-8950-5d95a3216b8e",
   "metadata": {},
   "source": [
    "## train and/or update model with optimize parameters"
   ]
  },
  {
   "cell_type": "code",
   "execution_count": null,
   "id": "da959229-14f9-410e-b7ff-02a5651f3eff",
   "metadata": {},
   "outputs": [],
   "source": [
    "# train model (automatically updates model with optimized paramters)\n",
    "result = test.minimize(init_theta, data=data, labels=labels, nshots=10000, method='Powell')"
   ]
  },
  {
   "cell_type": "code",
   "execution_count": null,
   "id": "4b019567-9f40-4a0e-9f52-cdd144348c64",
   "metadata": {},
   "outputs": [],
   "source": [
    "# alternatively, update model with optimized parameters from previous training\n",
    "saved_result = (0.37518004206164735, np.array([ 0.05368594,  2.12012694,  2.95697773,  0.60518956,  2.51820153,\n",
    "        2.95333363,  2.35358783,  2.52548046,  6.17361621,  5.14065087,\n",
    "        1.35459873,  1.70519722,  2.55822783,  3.43136954,  5.96385693,\n",
    "        4.36994029,  6.44098291,  3.71631498,  2.20483325,  2.10868282,\n",
    "        4.0078324 , 30.4276404 , 21.06173988, 15.32159141,  8.65229479,\n",
    "       11.65082011, 14.87624693, 20.11086026,  9.20322951,  7.26615611,\n",
    "       -0.16815041, 16.38359829,  7.54638571, 10.41015863,  6.44648262,\n",
    "       14.89135036, 16.98371482, -0.42979271,  1.98089151, 23.65288829,\n",
    "        4.16668502, 20.4802026 ,  4.19872457]))\n",
    "\n",
    "test.set_circuit_params(angles=saved_result[1], has_bias=True)"
   ]
  },
  {
   "cell_type": "markdown",
   "id": "a28a68bf-8246-46c4-9d3d-c1ef9c2f7813",
   "metadata": {},
   "source": [
    "## generate predictions from optimized model"
   ]
  },
  {
   "cell_type": "code",
   "execution_count": 18,
   "id": "4a0c3b38-7ea3-4718-9974-ba1cead1ef53",
   "metadata": {},
   "outputs": [],
   "source": [
    "# generate predictions from optimized model\n",
    "predictions = []\n",
    "for n in range(len(data)):\n",
    "    predictions.append(test.predict(data[n], nshots=10000)[0])"
   ]
  },
  {
   "cell_type": "code",
   "execution_count": 98,
   "id": "e2e64631-5abd-4b3e-aed0-167d7a92c496",
   "metadata": {},
   "outputs": [
    {
     "data": {
      "image/png": "[encoded data removed]",
      "text/plain": [
       "<Figure size 432x288 with 2 Axes>"
      ]
     },
     "metadata": {
      "needs_background": "light"
     },
     "output_type": "display_data"
    }
   ],
   "source": [
    "# result visualization\n",
    "from sklearn import metrics\n",
    "\n",
    "actual = [np.sign(label) for label in labels]\n",
    "predicted = [np.sign(prediction) for prediction in predictions]\n",
    "\n",
    "confusion_matrix = metrics.confusion_matrix(actual, predicted)\n",
    "\n",
    "cm_display = metrics.ConfusionMatrixDisplay(confusion_matrix = confusion_matrix, display_labels = [1, -1])\n",
    "\n",
    "cm_display.plot()\n",
    "plt.show()"
   ]
  },
  {
   "cell_type": "code",
   "execution_count": 96,
   "id": "05b91363-6a7f-4a80-80a2-7671d6e88ec5",
   "metadata": {},
   "outputs": [
    {
     "data": {
      "text/plain": [
       "0.9698492462311558"
      ]
     },
     "execution_count": 96,
     "metadata": {},
     "output_type": "execute_result"
    }
   ],
   "source": [
    "test.Accuracy(labels,predictions)"
   ]
  }
 ],
 "metadata": {
  "kernelspec": {
   "display_name": "Python 3 (ipykernel)",
   "language": "python",
   "name": "python3"
  },
  "language_info": {
   "codemirror_mode": {
    "name": "ipython",
    "version": 3
   },
   "file_extension": ".py",
   "mimetype": "text/x-python",
   "name": "python",
   "nbconvert_exporter": "python",
   "pygments_lexer": "ipython3",
   "version": "3.8.12"
  }
 },
 "nbformat": 4,
 "nbformat_minor": 5
}
